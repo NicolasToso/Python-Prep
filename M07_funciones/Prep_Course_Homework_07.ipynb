{
 "cells": [
  {
   "attachments": {},
   "cell_type": "markdown",
   "metadata": {},
   "source": [
    "## Funciones"
   ]
  },
  {
   "attachments": {},
   "cell_type": "markdown",
   "metadata": {},
   "source": [
    "1) Crear una función que reciba un número como parámetro y devuelva True si es primo y False si no lo es"
   ]
  },
  {
   "cell_type": "code",
   "execution_count": 8,
   "metadata": {},
   "outputs": [],
   "source": [
    "def es_primo(n):\n",
    "    flag = [1 for i in range(1,n) if n%i==0]\n",
    "    if len(flag) > 1:\n",
    "        return False\n",
    "    else:\n",
    "        return True"
   ]
  },
  {
   "attachments": {},
   "cell_type": "markdown",
   "metadata": {},
   "source": [
    "2) Utilizando la función del punto 1, realizar otra función que reciba de parámetro una lista de números y devuelva sólo aquellos que son primos en otra lista"
   ]
  },
  {
   "cell_type": "code",
   "execution_count": 26,
   "metadata": {},
   "outputs": [],
   "source": [
    "def lista_es_primo(lis):\n",
    "    lista_primos = [i for i in lis if es_primo(i)]\n",
    "    return lista_primos"
   ]
  },
  {
   "cell_type": "code",
   "execution_count": null,
   "metadata": {},
   "outputs": [],
   "source": [
    "lista_es_primo(range(100))"
   ]
  },
  {
   "attachments": {},
   "cell_type": "markdown",
   "metadata": {},
   "source": [
    "3) Crear una función que al recibir una lista de números, devuelva el que más se repite y cuántas veces lo hace. Si hay más de un \"más repetido\", que devuelva cualquiera"
   ]
  },
  {
   "cell_type": "code",
   "execution_count": 55,
   "metadata": {},
   "outputs": [],
   "source": [
    "def contador_repetidos(lista_numeros):\n",
    "    counter=[]\n",
    "    if lista_numeros==[]:\n",
    "        return None,None\n",
    "    else:\n",
    "        for numero in lista_numeros:\n",
    "            counter.append(lista_numeros.count(numero))\n",
    "        repetido=lista_numeros[counter.index(max(counter))]\n",
    "        return repetido, max(counter)    "
   ]
  },
  {
   "cell_type": "code",
   "execution_count": 56,
   "metadata": {},
   "outputs": [
    {
     "name": "stdout",
     "output_type": "stream",
     "text": [
      "[2, 2, 2, 2, 2, 3, 5, 4, 6, 8, 4, 2, 1, 3, 5, 4, 6, 8, 4, 5, 2, 5, 6, 9, 8, 5, 1, 1, 2, 3, 6, 6, 8, 5, 1, 5]\n",
      "El numero 2 se repite 8 veces\n"
     ]
    }
   ],
   "source": [
    "import random #random.sample(range(0, 10), 5)*8\n",
    "randomlist = [2,2,2,2,2,3,5,4,6,8,4,2,1,3,5,4,6,8,4,5,2,5,6,9,8,5,1,1,2,3,6,6,8,5,1,5]\n",
    "nro,cant = contador_repetidos(randomlist)\n",
    "print(randomlist)\n",
    "print(f\"El numero {nro} se repite {cant} veces\")"
   ]
  },
  {
   "attachments": {},
   "cell_type": "markdown",
   "metadata": {},
   "source": [
    "4) Crear una función que convierta entre grados Celsius, Farenheit y Kelvin<br>\n",
    "Fórmula 1\t: (°C × 9/5) + 32 = °F<br>\n",
    "Fórmula 2\t: °C + 273.15 = °K<br>\n",
    "Debe recibir 3 parámetros: el valor, la medida de orígen y la medida de destino\n"
   ]
  },
  {
   "cell_type": "code",
   "execution_count": 63,
   "metadata": {},
   "outputs": [],
   "source": [
    "def temp_converter(val, origin_unit, convert_unit):\n",
    "    def c_to_k(c):\n",
    "        return((c+273.15))\n",
    "    def k_to_c(k):\n",
    "        return(k-273.15)\n",
    "    def c_to_f(c):\n",
    "        return(((c*9)/5)+32)\n",
    "    def f_to_c(f):\n",
    "        return(((f-32)*5)/9)\n",
    "    def k_to_f(k):\n",
    "        return(c_to_f(k_to_c(k)))\n",
    "    def f_to_k(f):\n",
    "        return(c_to_k(f_to_c(f)))\n",
    "    int(val)\n",
    "    if origin_unit.lower() == \"c\":\n",
    "        if convert_unit.lower() == \"k\":\n",
    "            return f\"{c_to_k(val)} K\"\n",
    "        elif convert_unit.lower() == \"f\":\n",
    "            return f\"{c_to_f(val)} F\"\n",
    "        else:\n",
    "            return (\"Invalid destination unit\")\n",
    "    elif origin_unit.lower() == \"k\":\n",
    "        if convert_unit.lower() == \"c\":\n",
    "            return f\"{k_to_c(val)} C\"\n",
    "        elif convert_unit.lower() == \"f\":\n",
    "            return f\"{k_to_f(val)} F\"\n",
    "        else:\n",
    "            return (\"Invalid destination unit\")\n",
    "    elif origin_unit.lower() == \"f\":\n",
    "        if convert_unit.lower() == \"c\":\n",
    "            return f\"{f_to_c(val)} C\"\n",
    "        elif convert_unit.lower() == \"k\":\n",
    "            return f\"{f_to_k(val)} K\"\n",
    "        else:\n",
    "            return (\"Invalid destination unit\")\n",
    "    else:\n",
    "        return (\"Invalid origin unit\")\n",
    "    \n",
    "        \n"
   ]
  },
  {
   "cell_type": "code",
   "execution_count": 67,
   "metadata": {},
   "outputs": [
    {
     "data": {
      "text/plain": [
       "'255.3722222222222 K'"
      ]
     },
     "execution_count": 67,
     "metadata": {},
     "output_type": "execute_result"
    }
   ],
   "source": [
    "temp_converter(0,\"f\",\"k\")"
   ]
  },
  {
   "attachments": {},
   "cell_type": "markdown",
   "metadata": {},
   "source": [
    "5) Iterando una lista con los tres valores posibles de temperatura que recibe la función del punto 5, hacer un print para cada combinación de los mismos:"
   ]
  },
  {
   "cell_type": "code",
   "execution_count": null,
   "metadata": {},
   "outputs": [],
   "source": [
    "unit_list=[\"c\",\"f\",\"k\"]\n",
    "temp = 21\n",
    "for u in unit_list:\n",
    "    dest_units = [i for i in unit_list if i != u]\n",
    "    for i in dest_units:\n",
    "        print(f\"{temp} {u.upper()} es igual a {temp_converter(temp,u,i)}\")"
   ]
  },
  {
   "attachments": {},
   "cell_type": "markdown",
   "metadata": {},
   "source": [
    "6) Armar una función que devuelva el factorial de un número. Tener en cuenta que el usuario puede equivocarse y enviar de parámetro un número no entero o negativo"
   ]
  },
  {
   "cell_type": "code",
   "execution_count": 17,
   "metadata": {},
   "outputs": [],
   "source": [
    "def factorial(numero):\n",
    "    if type(numero) != int:\n",
    "        return \"numero invalido\"\n",
    "    if (numero) < 0:\n",
    "        return \"numero invalido\"\n",
    "    if numero <= 1:\n",
    "        return 1\n",
    "    numero = numero * factorial(numero - 1)\n",
    "    return numero\n",
    "\n",
    "  "
   ]
  },
  {
   "cell_type": "code",
   "execution_count": 19,
   "metadata": {},
   "outputs": [
    {
     "name": "stdout",
     "output_type": "stream",
     "text": [
      "numero invalido\n",
      "40320\n",
      "numero invalido\n"
     ]
    }
   ],
   "source": [
    "print(factorial(-5))\n",
    "print(factorial(8))\n",
    "print(factorial(\"Hola\"))"
   ]
  }
 ],
 "metadata": {
  "interpreter": {
   "hash": "c85384e4cb51c8b72350f3a8712cc8351fdc3955e32a27f9b60c6242ab125f01"
  },
  "kernelspec": {
   "display_name": "Python 3 (ipykernel)",
   "language": "python",
   "name": "python3"
  },
  "language_info": {
   "codemirror_mode": {
    "name": "ipython",
    "version": 3
   },
   "file_extension": ".py",
   "mimetype": "text/x-python",
   "name": "python",
   "nbconvert_exporter": "python",
   "pygments_lexer": "ipython3",
   "version": "0.0.0"
  }
 },
 "nbformat": 4,
 "nbformat_minor": 4
}
