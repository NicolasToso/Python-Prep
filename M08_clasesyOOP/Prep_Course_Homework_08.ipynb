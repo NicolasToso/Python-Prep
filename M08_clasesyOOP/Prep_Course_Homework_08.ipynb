{
 "cells": [
  {
   "attachments": {},
   "cell_type": "markdown",
   "metadata": {},
   "source": [
    "## Clases y Programación Orientada a Objetos"
   ]
  },
  {
   "attachments": {},
   "cell_type": "markdown",
   "metadata": {},
   "source": [
    "1) Crear la clase vehículo que contenga los atributos:<br>\n",
    "Color<br>\n",
    "Si es moto, auto, camioneta ó camión<br>\n",
    "Cilindrada del motor"
   ]
  },
  {
   "cell_type": "code",
   "execution_count": 1,
   "metadata": {},
   "outputs": [],
   "source": [
    "class vehiculo:\n",
    "    def __init__(self,color,tipo,cilindrada):\n",
    "        self.color= color\n",
    "        self.tipo= tipo\n",
    "        self.cilindrada = cilindrada"
   ]
  },
  {
   "attachments": {},
   "cell_type": "markdown",
   "metadata": {},
   "source": [
    "2) A la clase Vehiculo creada en el punto 1, agregar los siguientes métodos:<br>\n",
    "Acelerar<br>\n",
    "Frenar<br>\n",
    "Doblar<br>"
   ]
  },
  {
   "cell_type": "code",
   "execution_count": 24,
   "metadata": {},
   "outputs": [],
   "source": [
    "class vehiculo:\n",
    "    def __init__(self,color,tipo,cilindrada):\n",
    "        self.color= color\n",
    "        self.tipo= tipo\n",
    "        self.cilindrada = cilindrada\n",
    "    \n",
    "    def acelerar(self):\n",
    "        print(f\"La {(self.tipo)} aceleró\")\n",
    "\n",
    "    def frenar(self):\n",
    "        print(f\"La {(self.tipo)} frenó\")\n",
    "\n",
    "    def doblar(self):\n",
    "        print(f\"La {(self.tipo)} dobló\")\n"
   ]
  },
  {
   "attachments": {},
   "cell_type": "markdown",
   "metadata": {},
   "source": [
    "3) Instanciar 3 objetos de la clase vehículo y ejecutar sus métodos, probar luego el resultado"
   ]
  },
  {
   "cell_type": "code",
   "execution_count": 16,
   "metadata": {},
   "outputs": [
    {
     "name": "stdout",
     "output_type": "stream",
     "text": [
      "La moto aceleró\n",
      "La auto frenó\n",
      "La camión dobló\n"
     ]
    }
   ],
   "source": [
    "moto = vehiculo(\"roja\", \"moto\", \"350\")\n",
    "auto = vehiculo(\"blanco\", \"auto\", \"1100\")\n",
    "camion = vehiculo(\"blanco\", \"camión\", \"3500\")\n",
    "\n",
    "moto.acelerar()\n",
    "auto.frenar()\n",
    "camion.doblar()"
   ]
  },
  {
   "attachments": {},
   "cell_type": "markdown",
   "metadata": {},
   "source": [
    "4) Agregar a la clase Vehiculo, un método que muestre su estado, es decir, a que velocidad se encuentra y su dirección. Y otro método que muestre color, tipo y cilindrada"
   ]
  },
  {
   "cell_type": "code",
   "execution_count": 32,
   "metadata": {},
   "outputs": [],
   "source": [
    "class datos_vehiculo(vehiculo):\n",
    "    def __init__(self,color,tipo,cilindrada,velocidad,direccion):\n",
    "        super().__init__(color,tipo,cilindrada)\n",
    "        self.velocidad = velocidad\n",
    "        self.direccion = direccion\n",
    "\n",
    "    def estado(self):\n",
    "        print(f\"Esta circulando a {self.velocidad} hacia {self.direccion}\")\n",
    "\n",
    "    def caracteristicas(self):\n",
    "        print(f\"El vehiculo es: {self.tipo} de color {self.color} y tiene un motor de {self.cilindrada}cc\")"
   ]
  },
  {
   "cell_type": "code",
   "execution_count": 33,
   "metadata": {},
   "outputs": [],
   "source": [
    "mi_auto = datos_vehiculo(\"verde\", \"auto\", \"1800\", \"50 k/h\", \"sur\")"
   ]
  },
  {
   "cell_type": "code",
   "execution_count": 35,
   "metadata": {},
   "outputs": [
    {
     "name": "stdout",
     "output_type": "stream",
     "text": [
      "Esta circulando a 50 k/h hacia sur\n",
      "El vehiculo es: auto de color verde y tiene un motor de 1800cc\n"
     ]
    }
   ],
   "source": [
    "mi_auto.estado()\n",
    "mi_auto.caracteristicas()"
   ]
  },
  {
   "attachments": {},
   "cell_type": "markdown",
   "metadata": {},
   "source": [
    "5) Crear una clase que permita utilizar las funciones creadas en la práctica del módulo 7<br>\n",
    "Verificar Primo<br>\n",
    "Valor modal<br>\n",
    "Conversión grados<br>\n",
    "Factorial<br>"
   ]
  },
  {
   "cell_type": "code",
   "execution_count": 36,
   "metadata": {},
   "outputs": [],
   "source": [
    "class funciones():\n",
    "    def __init__(self):\n",
    "        pass\n",
    "\n",
    "    def es_primo(n):\n",
    "        flag = [1 for i in range(1,n) if n%i==0]\n",
    "        if len(flag) > 1:\n",
    "            return False\n",
    "        else:\n",
    "            return True\n",
    "        \n",
    "    def temp_converter(val, origin_unit, convert_unit):\n",
    "        def c_to_k(c):\n",
    "            return((c+273.15))\n",
    "        def k_to_c(k):\n",
    "            return(k-273.15)\n",
    "        def c_to_f(c):\n",
    "            return(((c*9)/5)+32)\n",
    "        def f_to_c(f):\n",
    "            return(((f-32)*5)/9)\n",
    "        def k_to_f(k):\n",
    "            return(c_to_f(k_to_c(k)))\n",
    "        def f_to_k(f):\n",
    "            return(c_to_k(f_to_c(f)))\n",
    "        int(val)\n",
    "        if origin_unit.lower() == \"c\":\n",
    "            if convert_unit.lower() == \"k\":\n",
    "                return f\"{c_to_k(val)} K\"\n",
    "            elif convert_unit.lower() == \"f\":\n",
    "                return f\"{c_to_f(val)} F\"\n",
    "            else:\n",
    "                return (\"Invalid destination unit\")\n",
    "        elif origin_unit.lower() == \"k\":\n",
    "            if convert_unit.lower() == \"c\":\n",
    "                return f\"{k_to_c(val)} C\"\n",
    "            elif convert_unit.lower() == \"f\":\n",
    "                return f\"{k_to_f(val)} F\"\n",
    "            else:\n",
    "                return (\"Invalid destination unit\")\n",
    "        elif origin_unit.lower() == \"f\":\n",
    "            if convert_unit.lower() == \"c\":\n",
    "                return f\"{f_to_c(val)} C\"\n",
    "            elif convert_unit.lower() == \"k\":\n",
    "                return f\"{f_to_k(val)} K\"\n",
    "            else:\n",
    "                return (\"Invalid destination unit\")\n",
    "        else:\n",
    "            return (\"Invalid origin unit\")\n",
    "        \n",
    "    def contador_repetidos(lista_numeros):\n",
    "        counter=[]\n",
    "        if lista_numeros==[]:\n",
    "            return None,None\n",
    "        else:\n",
    "            for numero in lista_numeros:\n",
    "                counter.append(lista_numeros.count(numero))\n",
    "            repetido=lista_numeros[counter.index(max(counter))]\n",
    "            return repetido, max(counter)    "
   ]
  },
  {
   "attachments": {},
   "cell_type": "markdown",
   "metadata": {},
   "source": [
    "6) Probar las funciones incorporadas en la clase del punto 5"
   ]
  },
  {
   "cell_type": "code",
   "execution_count": 43,
   "metadata": {},
   "outputs": [
    {
     "data": {
      "text/plain": [
       "'77.0 F'"
      ]
     },
     "execution_count": 43,
     "metadata": {},
     "output_type": "execute_result"
    }
   ],
   "source": [
    "funciones.temp_converter(25,\"c\",\"f\")"
   ]
  },
  {
   "attachments": {},
   "cell_type": "markdown",
   "metadata": {},
   "source": [
    "7) Es necesario que la clase creada en el punto 5 contenga una lista, sobre la cual se apliquen las funciones incorporadas"
   ]
  },
  {
   "cell_type": "code",
   "execution_count": 45,
   "metadata": {},
   "outputs": [
    {
     "data": {
      "text/plain": [
       "(2, 8)"
      ]
     },
     "execution_count": 45,
     "metadata": {},
     "output_type": "execute_result"
    }
   ],
   "source": [
    "funciones.contador_repetidos([2,2,2,2,2,3,5,4,6,8,4,2,1,3,5,4,6,8,4,5,2,5,6,9,8,5,1,1,2,3,6,6,8,5,1,5])"
   ]
  },
  {
   "attachments": {},
   "cell_type": "markdown",
   "metadata": {},
   "source": [
    "8) Crear un archivo .py aparte y ubicar allí la clase generada en el punto anterior. Luego realizar la importación del módulo y probar alguna de sus funciones"
   ]
  },
  {
   "cell_type": "code",
   "execution_count": 1,
   "metadata": {},
   "outputs": [],
   "source": [
    "lista = [2,2,2,2,2,3,5,4,6,8,4,2,1,3,5,4,6,8,4,5,2,5,6,9,8,5,1,1,2,3,6,6,8,5,1,5]"
   ]
  },
  {
   "cell_type": "code",
   "execution_count": 5,
   "metadata": {},
   "outputs": [
    {
     "data": {
      "text/plain": [
       "(2, 8)"
      ]
     },
     "execution_count": 5,
     "metadata": {},
     "output_type": "execute_result"
    }
   ],
   "source": [
    "import funcionesej7\n",
    "\n",
    "funcionesej7.funcion.contador_repetidos(lista)\n"
   ]
  },
  {
   "cell_type": "code",
   "execution_count": 6,
   "metadata": {},
   "outputs": [
    {
     "data": {
      "text/plain": [
       "False"
      ]
     },
     "execution_count": 6,
     "metadata": {},
     "output_type": "execute_result"
    }
   ],
   "source": [
    "funcionesej7.funcion.es_primo(13564)"
   ]
  },
  {
   "cell_type": "code",
   "execution_count": 7,
   "metadata": {},
   "outputs": [
    {
     "data": {
      "text/plain": [
       "'69.8 F'"
      ]
     },
     "execution_count": 7,
     "metadata": {},
     "output_type": "execute_result"
    }
   ],
   "source": [
    "funcionesej7.funcion.temp_converter(21, \"c\", \"f\")"
   ]
  },
  {
   "cell_type": "code",
   "execution_count": null,
   "metadata": {},
   "outputs": [],
   "source": []
  }
 ],
 "metadata": {
  "interpreter": {
   "hash": "c85384e4cb51c8b72350f3a8712cc8351fdc3955e32a27f9b60c6242ab125f01"
  },
  "kernelspec": {
   "display_name": "Python 3 (ipykernel)",
   "language": "python",
   "name": "python3"
  },
  "language_info": {
   "codemirror_mode": {
    "name": "ipython",
    "version": 3
   },
   "file_extension": ".py",
   "mimetype": "text/x-python",
   "name": "python",
   "nbconvert_exporter": "python",
   "pygments_lexer": "ipython3",
   "version": "3.12.0"
  }
 },
 "nbformat": 4,
 "nbformat_minor": 4
}
